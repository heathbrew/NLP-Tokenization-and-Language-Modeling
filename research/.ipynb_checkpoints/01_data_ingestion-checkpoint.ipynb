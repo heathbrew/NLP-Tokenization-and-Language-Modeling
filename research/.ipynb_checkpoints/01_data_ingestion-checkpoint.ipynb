{
 "cells": [
  {
   "cell_type": "code",
   "execution_count": 1,
   "metadata": {},
   "outputs": [],
   "source": [
    "import os"
   ]
  },
  {
   "cell_type": "code",
   "execution_count": 2,
   "metadata": {},
   "outputs": [
    {
     "data": {
      "text/plain": [
       "'d:\\\\Desktop\\\\NLP\\\\Lab 1\\\\NLP-Tokenization-and-Language-Modeling\\\\research'"
      ]
     },
     "execution_count": 2,
     "metadata": {},
     "output_type": "execute_result"
    }
   ],
   "source": [
    "%pwd"
   ]
  },
  {
   "cell_type": "code",
   "execution_count": 3,
   "metadata": {},
   "outputs": [],
   "source": [
    "os.chdir(\"../\")"
   ]
  },
  {
   "cell_type": "code",
   "execution_count": 4,
   "metadata": {},
   "outputs": [
    {
     "data": {
      "text/plain": [
       "'d:\\\\Desktop\\\\NLP\\\\Lab 1\\\\NLP-Tokenization-and-Language-Modeling'"
      ]
     },
     "execution_count": 4,
     "metadata": {},
     "output_type": "execute_result"
    }
   ],
   "source": [
    "%pwd"
   ]
  },
  {
   "cell_type": "code",
   "execution_count": null,
   "metadata": {},
   "outputs": [],
   "source": [
    "import zipfile\n",
    "import os\n",
    "import logging\n",
    "from pathlib import Path\n",
    "from dataclasses import dataclass  # Import dataclass decorator\n",
    "\n",
    "# Configure the logger\n",
    "logging.basicConfig(level=logging.INFO)\n",
    "logger = logging.getLogger(__name__)\n",
    "\n",
    "@dataclass(frozen=True)\n",
    "class DataIngestionConfig:\n",
    "    root_dir: Path\n",
    "    local_data_file: Path\n",
    "    unzip_dir: Path\n",
    "\n",
    "class DataIngestion:\n",
    "    def __init__(self, config: DataIngestionConfig):\n",
    "        self.config = config\n",
    "\n",
    "    def get_size(self, directory: Path):\n",
    "        # Calculate the size of the directory and format it\n",
    "        size = sum(f.stat().st_size for f in directory.glob('**/*') if f.is_file())\n",
    "        size_format = self.format_size(size)\n",
    "        return size_format\n",
    "\n",
    "    def format_size(self, size_in_bytes):\n",
    "        size_in_bytes = float(size_in_bytes)\n",
    "        for unit in ['B', 'KB', 'MB', 'GB']:\n",
    "            if size_in_bytes < 1024.0:\n",
    "                return f\"{size_in_bytes:.2f} {unit}\"\n",
    "            size_in_bytes /= 1024.0\n",
    "        return f\"{size_in_bytes:.2f} TB\"\n",
    "\n",
    "    def extract_zip_file(self):\n",
    "        unzip_path = self.config.unzip_dir\n",
    "        os.makedirs(unzip_path, exist_ok=True)\n",
    "        with zipfile.ZipFile(self.config.local_data_file, 'r') as zip_ref:\n",
    "            zip_ref.extractall(unzip_path)\n",
    "\n",
    "        # Remove the YAML file (data.yaml) after extraction\n",
    "        yaml_file_path = unzip_path / \"data.yaml\"\n",
    "        if yaml_file_path.exists():\n",
    "            yaml_file_path.unlink()\n",
    "        \n",
    "        size = self.get_size(unzip_path)\n",
    "        logger.info(f\"Extraction completed in: {unzip_path}, Size: {size}\")\n",
    "\n",
    "try:\n",
    "    # Provide the root directory path\n",
    "    root_dir = Path(\"d:\\\\Desktop\\\\NLP\\\\Lab 1\\\\NLP-Tokenization-and-Language-Modeling\")  # Update with your root directory path\n",
    "    \n",
    "    # Use the path to the dataset zip file\n",
    "    dataset_zip_path = Path(root_dir / \"Dataset\" / \"Angular.zip\")\n",
    "    \n",
    "    # Define the unzip directory\n",
    "    unzip_directory = Path(root_dir / \"Dataset\" / \"UnzippedAngular\")  # Update with your desired unzip directory\n",
    "    \n",
    "    # Create a DataIngestionConfig with the updated paths\n",
    "    data_ingestion_config = DataIngestionConfig(\n",
    "        root_dir=root_dir,\n",
    "        local_data_file=dataset_zip_path,\n",
    "        unzip_dir=unzip_directory\n",
    "    )\n",
    "    \n",
    "    data_ingestion = DataIngestion(config=data_ingestion_config)\n",
    "    data_ingestion.extract_zip_file()\n",
    "except Exception as e:\n",
    "    logger.error(f\"An error occurred: {e}\")\n",
    "    raise e\n"
   ]
  }
 ],
 "metadata": {
  "kernelspec": {
   "display_name": "Python 3",
   "language": "python",
   "name": "python3"
  },
  "language_info": {
   "codemirror_mode": {
    "name": "ipython",
    "version": 3
   },
   "file_extension": ".py",
   "mimetype": "text/x-python",
   "name": "python",
   "nbconvert_exporter": "python",
   "pygments_lexer": "ipython3",
   "version": "3.10.0"
  }
 },
 "nbformat": 4,
 "nbformat_minor": 2
}
